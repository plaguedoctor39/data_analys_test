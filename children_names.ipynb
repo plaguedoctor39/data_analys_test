{
 "cells": [
  {
   "cell_type": "code",
   "execution_count": 11,
   "metadata": {},
   "outputs": [],
   "source": [
    "import pandas as pd\n"
   ]
  },
  {
   "cell_type": "code",
   "execution_count": 12,
   "metadata": {},
   "outputs": [],
   "source": [
    "def count_top3(list_of_years):\n",
    "    years = []\n",
    "    for year in list_of_years:\n",
    "        file_path = 'names/' + 'yob' + str(year) + '.txt'\n",
    "        table = pd.read_csv(file_path, names=['Name', 'Gender', 'Count'])\n",
    "#         table = table.sort_values('Count', ascending=False)\n",
    "#         print(table)\n",
    "        years.append(table)\n",
    "    df_res = pd.concat(years, ignore_index=True)\n",
    "    df_res = df_res.groupby(['Name']).sum()\n",
    "    df_res = df_res.sort_values('Count', ascending=False, ignore_index=False)\n",
    "    print(df_res)\n",
    "    print(df_res.index[0:3].tolist())"
   ]
  },
  {
   "cell_type": "code",
   "execution_count": 13,
   "metadata": {},
   "outputs": [
    {
     "name": "stdout",
     "output_type": "stream",
     "text": [
      "           Count\n",
      "Name            \n",
      "James     118415\n",
      "Michael   114861\n",
      "John      111292\n",
      "Robert    105090\n",
      "William    98588\n",
      "...          ...\n",
      "Fiifi          5\n",
      "Filicity       5\n",
      "Filza          5\n",
      "Sausha         5\n",
      "Zzyzx          5\n",
      "\n",
      "[42685 rows x 1 columns]\n",
      "['James', 'Michael', 'John']\n"
     ]
    }
   ],
   "source": [
    "count_top3([1950, 2000, 2010])"
   ]
  },
  {
   "cell_type": "code",
   "execution_count": 14,
   "metadata": {},
   "outputs": [],
   "source": [
    "def count_dynamics(list_of_years):\n",
    "    years = []\n",
    "    f_list = []\n",
    "    m_list = []\n",
    "    for year in list_of_years:\n",
    "        file_path = 'names/' + 'yob' + str(year) + '.txt'\n",
    "        table = pd.read_csv(file_path, names=['Name', 'Gender', 'Count'])\n",
    "        years.append(table)\n",
    "        table = table.groupby('Gender').sum()\n",
    "        table = table.values.tolist()\n",
    "        f_list.append(table[0][0])\n",
    "        m_list.append(table[1][0])\n",
    "    result = {'F': f_list,\n",
    "             'M': m_list}\n",
    "    print(result)\n"
   ]
  },
  {
   "cell_type": "code",
   "execution_count": 15,
   "outputs": [
    {
     "name": "stdout",
     "output_type": "stream",
     "text": [
      "{'F': [299798, 1713065, 1815295], 'M': [150480, 1790437, 1963202]}\n"
     ]
    }
   ],
   "source": [
    "count_dynamics([1900, 1950, 2000])\n"
   ],
   "metadata": {
    "collapsed": false,
    "pycharm": {
     "name": "#%%\n"
    }
   }
  }
 ],
 "metadata": {
  "kernelspec": {
   "display_name": "Python 3",
   "language": "python",
   "name": "python3"
  },
  "language_info": {
   "codemirror_mode": {
    "name": "ipython",
    "version": 3
   },
   "file_extension": ".py",
   "mimetype": "text/x-python",
   "name": "python",
   "nbconvert_exporter": "python",
   "pygments_lexer": "ipython3",
   "version": "3.7.6"
  }
 },
 "nbformat": 4,
 "nbformat_minor": 1
}